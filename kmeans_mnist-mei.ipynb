{
 "cells": [
  {
   "cell_type": "markdown",
   "metadata": {},
   "source": [
    "# End-to-End Example ---- Train & Host Model on AWS Sagemaker\n",
    "\n",
    "1. [Introduction](#Introduction)\n",
    "2. [Prerequisites and Preprocessing](#Prequisites-and-Preprocessing)\n",
    "  1. [Permissions and environment variables](#Permissions-and-environment-variables)\n",
    "  2. [Data ingestion](#Data-ingestion)\n",
    "  3. [Data inspection](#Data-inspection)\n",
    "  4. [Data conversion](#Data-conversion)\n",
    "3. [Training the K-Means model](#Training-the-K-Means-model)\n",
    "4. [Set up hosting for the model](#Set-up-hosting-for-the-model)\n",
    "5. [Validate the model for use](#Validate-the-model-for-use)\n"
   ]
  },
  {
   "cell_type": "markdown",
   "metadata": {},
   "source": [
    "## Introduction\n",
    "\n",
    "Welcome to our first end-to-end example! Today, we're working through a classification problem, specifically of images of handwritten digits, from zero to nine. Let's imagine that this dataset doesn't have labels, so we don't know for sure what the true answer is. In later examples, we'll show the value of \"ground truth\", as it's commonly known.\n",
    "\n",
    "Today, however, we need to get these digits classified without ground truth. A common method for doing this is a set of methods known as \"clustering\", and in particular, the method that we'll look at today is called k-means clustering. In this method, each point belongs to the cluster with the closest mean, and the data is partitioned into a number of clusters that is specified when framing the problem. In this case, since we know there are 10 clusters, and we have no labeled data (in the way we framed the problem), this is a good fit.\n",
    "\n",
    "To get started, we need to set up the environment with a few prerequisite steps, for permissions, configurations, and so on."
   ]
  },
  {
   "cell_type": "markdown",
   "metadata": {},
   "source": [
    "## Prequisites and Preprocessing\n",
    "\n",
    "### Permissions and environment variables\n",
    "\n",
    "Here we set up the linkage and authentication to AWS services. There are two parts to this:\n",
    "\n",
    "1. The role(s) used to give learning and hosting access to your data. Here we extract the role you created earlier for accessing your notebook.  See the documentation if you want to specify  a different role\n",
    "1. The S3 bucket name and locations that you want to use for training and model data."
   ]
  },
  {
   "cell_type": "code",
   "execution_count": 1,
   "metadata": {
    "collapsed": true,
    "isConfigCell": true
   },
   "outputs": [],
   "source": [
    "from sagemaker import get_execution_role\n",
    "\n",
    "role = get_execution_role()\n",
    "bucket=\"zimei\""
   ]
  },
  {
   "cell_type": "markdown",
   "metadata": {},
   "source": [
    "### Data ingestion\n",
    "\n",
    "Next, we read the dataset from the existing repository into memory, for preprocessing prior to training.  In this case we'll use the MNIST dataset, which contains 70K 28 x 28 pixel images of handwritten digits.  For more details, please see [here](http://yann.lecun.com/exdb/mnist/).\n",
    "\n",
    "This processing could be done *in situ* by Amazon Athena, Apache Spark in Amazon EMR, Amazon Redshift, etc., assuming the dataset is present in the appropriate location. Then, the next step would be to transfer the data to S3 for use in training. For small datasets, such as this one, reading into memory isn't onerous, though it would be for larger datasets."
   ]
  },
  {
   "cell_type": "code",
   "execution_count": 2,
   "metadata": {},
   "outputs": [
    {
     "name": "stdout",
     "output_type": "stream",
     "text": [
      "CPU times: user 292 ms, sys: 872 ms, total: 1.16 s\n",
      "Wall time: 3.65 s\n"
     ]
    }
   ],
   "source": [
    "%%time\n",
    "import pickle, gzip, numpy, urllib.request, json\n",
    "\n",
    "# Load the dataset\n",
    "urllib.request.urlretrieve(\"http://deeplearning.net/data/mnist/mnist.pkl.gz\", \"mnist.pkl.gz\")\n",
    "with gzip.open('mnist.pkl.gz', 'rb') as f:\n",
    "    train_set, valid_set, test_set = pickle.load(f, encoding='latin1')"
   ]
  },
  {
   "cell_type": "markdown",
   "metadata": {},
   "source": [
    "### Data inspection\n",
    "\n",
    "Once the dataset is imported, it's typical as part of the machine learning process to inspect the data, understand the distributions, and determine what type(s) of preprocessing might be needed. You can perform those tasks right here in the notebook. As an example, let's go ahead and look at one of the digits that is part of the dataset."
   ]
  },
  {
   "cell_type": "code",
   "execution_count": 3,
   "metadata": {},
   "outputs": [
    {
     "data": {
      "image/png": "[encoded data removed]",
      "text/plain": [
       "<matplotlib.figure.Figure at 0x7ff3f9b728d0>"
      ]
     },
     "metadata": {},
     "output_type": "display_data"
    }
   ],
   "source": [
    "%matplotlib inline\n",
    "import matplotlib.pyplot as plt\n",
    "plt.rcParams[\"figure.figsize\"] = (2,10)\n",
    "\n",
    "\n",
    "def show_digit(img, caption='', subplot=None):\n",
    "    if subplot==None:\n",
    "        _,(subplot)=plt.subplots(1,1)\n",
    "    imgr=img.reshape((28,28))\n",
    "    subplot.axis('off')\n",
    "    subplot.imshow(imgr, cmap='gray')\n",
    "    plt.title(caption)\n",
    "\n",
    "show_digit(train_set[0][30], 'This is a {}'.format(train_set[1][30]))"
   ]
  },
  {
   "cell_type": "markdown",
   "metadata": {},
   "source": [
    "## Training the K-Means model\n",
    "\n",
    "Once we have the data preprocessed and available in the correct format for training, the next step is to actually train the model using the data. Since this data is relatively small, it isn't meant to show off the performance of the k-means training algorithm.  But Amazon SageMaker's k-means has been tested on, and scales well with, multi-terabyte datasets.\n",
    "\n",
    "After setting training parameters, we kick off training, and poll for status until training is completed, which in this example, takes between 7 and 11 minutes."
   ]
  },
  {
   "cell_type": "code",
   "execution_count": 6,
   "metadata": {},
   "outputs": [
    {
     "name": "stdout",
     "output_type": "stream",
     "text": [
      "training data will be uploaded to: s3://zimei/kmeans_highlevel_example/data\n",
      "training artifacts will be uploaded to: s3://zimei/kmeans_example/output\n"
     ]
    },
    {
     "name": "stderr",
     "output_type": "stream",
     "text": [
      "INFO:sagemaker:Created S3 bucket: sagemaker-us-east-1-163409679541\n"
     ]
    }
   ],
   "source": [
    "from sagemaker import KMeans\n",
    "\n",
    "data_location = 's3://zimei/kmeans_highlevel_example/data'.format(bucket)\n",
    "output_location = 's3://zimei/kmeans_example/output'.format(bucket)\n",
    "\n",
    "print('training data will be uploaded to: {}'.format(data_location))\n",
    "print('training artifacts will be uploaded to: {}'.format(output_location))\n",
    "\n",
    "kmeans = KMeans(role=role,\n",
    "                train_instance_count=2,\n",
    "                train_instance_type='ml.c4.8xlarge',\n",
    "                output_path=output_location,\n",
    "                k=10,\n",
    "                data_location=data_location)"
   ]
  },
  {
   "cell_type": "code",
   "execution_count": 7,
   "metadata": {},
   "outputs": [
    {
     "name": "stderr",
     "output_type": "stream",
     "text": [
      "INFO:sagemaker:Creating training-job with name: kmeans-2018-03-07-00-49-19-741\n"
     ]
    },
    {
     "name": "stdout",
     "output_type": "stream",
     "text": [
      "......................................................................\n",
      "\u001b[31mDocker entrypoint called with argument(s): train\u001b[0m\n",
      "\u001b[31m[03/07/2018 00:55:07 INFO 140341568419648] Reading default configuration from /opt/amazon/lib/python2.7/site-packages/algorithm/default-input.json: {u'_num_gpus': u'auto', u'local_lloyd_num_trials': u'auto', u'_log_level': u'info', u'_kvstore': u'auto', u'local_lloyd_init_method': u'kmeans++', u'force_dense': u'true', u'epochs': u'1', u'init_method': u'random', u'local_lloyd_tol': u'0.0001', u'local_lloyd_max_iter': u'300', u'_disable_wait_to_read': u'false', u'extra_center_factor': u'auto', u'eval_metrics': u'[\"msd\"]', u'_num_kv_servers': u'1', u'mini_batch_size': u'5000', u'half_life_time_size': u'0', u'_num_slices': u'1'}\u001b[0m\n",
      "\u001b[31m[03/07/2018 00:55:07 INFO 140341568419648] Reading provided configuration from /opt/ml/input/config/hyperparameters.json: {u'feature_dim': u'784', u'mini_batch_size': u'500', u'k': u'10', u'force_dense': u'True'}\u001b[0m\n",
      "\u001b[31m[03/07/2018 00:55:07 INFO 140341568419648] Final configuration: {u'k': u'10', u'_num_gpus': u'auto', u'local_lloyd_num_trials': u'auto', u'_log_level': u'info', u'_kvstore': u'auto', u'local_lloyd_init_method': u'kmeans++', u'force_dense': u'True', u'epochs': u'1', u'init_method': u'random', u'feature_dim': u'784', u'local_lloyd_tol': u'0.0001', u'local_lloyd_max_iter': u'300', u'_disable_wait_to_read': u'false', u'extra_center_factor': u'auto', u'eval_metrics': u'[\"msd\"]', u'_num_kv_servers': u'1', u'mini_batch_size': u'500', u'half_life_time_size': u'0', u'_num_slices': u'1'}\u001b[0m\n",
      "\u001b[31m[03/07/2018 00:55:07 WARNING 140341568419648] Loggers have already been setup.\u001b[0m\n",
      "\u001b[31m[03/07/2018 00:55:07 INFO 140341568419648] Launching parameter server for role scheduler\u001b[0m\n",
      "\u001b[31m[03/07/2018 00:55:07 INFO 140341568419648] {'PROTOCOL_BUFFERS_PYTHON_IMPLEMENTATION_VERSION': '2', 'PATH': '/opt/amazon/bin:/usr/local/nvidia/bin:/usr/local/sbin:/usr/local/bin:/usr/sbin:/usr/bin:/sbin:/bin:/opt/amazon/bin:/opt/amazon/bin', 'SAGEMAKER_HTTP_PORT': '8080', 'HOME': '/root', 'PYTHONUNBUFFERED': 'TRUE', 'CANONICAL_ENVROOT': '/opt/amazon', 'LD_LIBRARY_PATH': '/usr/local/nvidia/lib64::/opt/amazon/lib', 'MXNET_KVSTORE_BIGARRAY_BOUND': '400000000', 'LANG': 'en_US.utf8', 'DMLC_INTERFACE': 'ethwe', 'SHLVL': '1', 'AWS_REGION': 'us-east-1', 'NVIDIA_VISIBLE_DEVICES': 'all', 'PROTOCOL_BUFFERS_PYTHON_IMPLEMENTATION': 'cpp', 'ENVROOT': '/opt/amazon', 'SAGEMAKER_DATA_PATH': '/opt/ml', 'NVIDIA_DRIVER_CAPABILITIES': 'compute,utility', 'NVIDIA_REQUIRE_CUDA': 'cuda>=9.0', 'OMP_NUM_THREADS': '18', 'HOSTNAME': 'aws', 'AWS_CONTAINER_CREDENTIALS_RELATIVE_URI': '/v2/credentials/e56ae2b4-c7d3-4337-90de-bc71f5935e84', 'PWD': '/'}\u001b[0m\n",
      "\u001b[31m[03/07/2018 00:55:07 INFO 140341568419648] envs={'PROTOCOL_BUFFERS_PYTHON_IMPLEMENTATION_VERSION': '2', 'DMLC_NUM_WORKER': '2', 'DMLC_PS_ROOT_PORT': '9000', 'PATH': '/opt/amazon/bin:/usr/local/nvidia/bin:/usr/local/sbin:/usr/local/bin:/usr/sbin:/usr/bin:/sbin:/bin:/opt/amazon/bin:/opt/amazon/bin', 'SAGEMAKER_HTTP_PORT': '8080', 'HOME': '/root', 'PYTHONUNBUFFERED': 'TRUE', 'CANONICAL_ENVROOT': '/opt/amazon', 'LD_LIBRARY_PATH': '/usr/local/nvidia/lib64::/opt/amazon/lib', 'MXNET_KVSTORE_BIGARRAY_BOUND': '400000000', 'LANG': 'en_US.utf8', 'DMLC_INTERFACE': 'ethwe', 'SHLVL': '1', 'DMLC_PS_ROOT_URI': '10.32.0.4', 'AWS_REGION': 'us-east-1', 'NVIDIA_VISIBLE_DEVICES': 'all', 'PROTOCOL_BUFFERS_PYTHON_IMPLEMENTATION': 'cpp', 'ENVROOT': '/opt/amazon', 'SAGEMAKER_DATA_PATH': '/opt/ml', 'NVIDIA_DRIVER_CAPABILITIES': 'compute,utility', 'NVIDIA_REQUIRE_CUDA': 'cuda>=9.0', 'OMP_NUM_THREADS': '18', 'HOSTNAME': 'aws', 'AWS_CONTAINER_CREDENTIALS_RELATIVE_URI': '/v2/credentials/e56ae2b4-c7d3-4337-90de-bc71f5935e84', 'DMLC_ROLE': 'scheduler', 'PWD': '/', 'DMLC_NUM_SERVER': '1'}\u001b[0m\n",
      "\u001b[31m[03/07/2018 00:55:07 INFO 140341568419648] Launching parameter server for role server\u001b[0m\n",
      "\u001b[31m[03/07/2018 00:55:07 INFO 140341568419648] {'PROTOCOL_BUFFERS_PYTHON_IMPLEMENTATION_VERSION': '2', 'PATH': '/opt/amazon/bin:/usr/local/nvidia/bin:/usr/local/sbin:/usr/local/bin:/usr/sbin:/usr/bin:/sbin:/bin:/opt/amazon/bin:/opt/amazon/bin', 'SAGEMAKER_HTTP_PORT': '8080', 'HOME': '/root', 'PYTHONUNBUFFERED': 'TRUE', 'CANONICAL_ENVROOT': '/opt/amazon', 'LD_LIBRARY_PATH': '/usr/local/nvidia/lib64::/opt/amazon/lib', 'MXNET_KVSTORE_BIGARRAY_BOUND': '400000000', 'LANG': 'en_US.utf8', 'DMLC_INTERFACE': 'ethwe', 'SHLVL': '1', 'AWS_REGION': 'us-east-1', 'NVIDIA_VISIBLE_DEVICES': 'all', 'PROTOCOL_BUFFERS_PYTHON_IMPLEMENTATION': 'cpp', 'ENVROOT': '/opt/amazon', 'SAGEMAKER_DATA_PATH': '/opt/ml', 'NVIDIA_DRIVER_CAPABILITIES': 'compute,utility', 'NVIDIA_REQUIRE_CUDA': 'cuda>=9.0', 'OMP_NUM_THREADS': '18', 'HOSTNAME': 'aws', 'AWS_CONTAINER_CREDENTIALS_RELATIVE_URI': '/v2/credentials/e56ae2b4-c7d3-4337-90de-bc71f5935e84', 'PWD': '/'}\u001b[0m\n",
      "\u001b[31m[03/07/2018 00:55:07 INFO 140341568419648] envs={'PROTOCOL_BUFFERS_PYTHON_IMPLEMENTATION_VERSION': '2', 'DMLC_NUM_WORKER': '2', 'DMLC_PS_ROOT_PORT': '9000', 'PATH': '/opt/amazon/bin:/usr/local/nvidia/bin:/usr/local/sbin:/usr/local/bin:/usr/sbin:/usr/bin:/sbin:/bin:/opt/amazon/bin:/opt/amazon/bin', 'SAGEMAKER_HTTP_PORT': '8080', 'HOME': '/root', 'PYTHONUNBUFFERED': 'TRUE', 'CANONICAL_ENVROOT': '/opt/amazon', 'LD_LIBRARY_PATH': '/usr/local/nvidia/lib64::/opt/amazon/lib', 'MXNET_KVSTORE_BIGARRAY_BOUND': '400000000', 'LANG': 'en_US.utf8', 'DMLC_INTERFACE': 'ethwe', 'SHLVL': '1', 'DMLC_PS_ROOT_URI': '10.32.0.4', 'AWS_REGION': 'us-east-1', 'NVIDIA_VISIBLE_DEVICES': 'all', 'PROTOCOL_BUFFERS_PYTHON_IMPLEMENTATION': 'cpp', 'ENVROOT': '/opt/amazon', 'SAGEMAKER_DATA_PATH': '/opt/ml', 'NVIDIA_DRIVER_CAPABILITIES': 'compute,utility', 'NVIDIA_REQUIRE_CUDA': 'cuda>=9.0', 'OMP_NUM_THREADS': '18', 'HOSTNAME': 'aws', 'AWS_CONTAINER_CREDENTIALS_RELATIVE_URI': '/v2/credentials/e56ae2b4-c7d3-4337-90de-bc71f5935e84', 'DMLC_ROLE': 'server', 'PWD': '/', 'DMLC_NUM_SERVER': '1'}\u001b[0m\n",
      "\u001b[31m[03/07/2018 00:55:07 INFO 140341568419648] Environment: {'PROTOCOL_BUFFERS_PYTHON_IMPLEMENTATION_VERSION': '2', 'DMLC_PS_ROOT_PORT': '9000', 'DMLC_NUM_WORKER': '2', 'SAGEMAKER_HTTP_PORT': '8080', 'HOME': '/root', 'PYTHONUNBUFFERED': 'TRUE', 'CANONICAL_ENVROOT': '/opt/amazon', 'LD_LIBRARY_PATH': '/usr/local/nvidia/lib64::/opt/amazon/lib', 'MXNET_KVSTORE_BIGARRAY_BOUND': '400000000', 'LANG': 'en_US.utf8', 'DMLC_INTERFACE': 'ethwe', 'SHLVL': '1', 'DMLC_PS_ROOT_URI': '10.32.0.4', 'AWS_REGION': 'us-east-1', 'NVIDIA_VISIBLE_DEVICES': 'all', 'PATH': '/opt/amazon/bin:/usr/local/nvidia/bin:/usr/local/sbin:/usr/local/bin:/usr/sbin:/usr/bin:/sbin:/bin:/opt/amazon/bin:/opt/amazon/bin', 'PROTOCOL_BUFFERS_PYTHON_IMPLEMENTATION': 'cpp', 'ENVROOT': '/opt/amazon', 'SAGEMAKER_DATA_PATH': '/opt/ml', 'NVIDIA_DRIVER_CAPABILITIES': 'compute,utility', 'NVIDIA_REQUIRE_CUDA': 'cuda>=9.0', 'OMP_NUM_THREADS': '18', 'HOSTNAME': 'aws', 'AWS_CONTAINER_CREDENTIALS_RELATIVE_URI': '/v2/credentials/e56ae2b4-c7d3-4337-90de-bc71f5935e84', 'DMLC_ROLE': 'worker', 'PWD': '/', 'DMLC_NUM_SERVER': '1'}\u001b[0m\n",
      "\u001b[31m[03/07/2018 00:55:07 INFO 140341568419648] Using default worker.\u001b[0m\n",
      "\u001b[31m[03/07/2018 00:55:07 INFO 140341568419648] Loaded iterator creator application/x-recordio-protobuf for content type ('application/x-recordio-protobuf', '1.0')\u001b[0m\n",
      "\u001b[31m[03/07/2018 00:55:07 INFO 140341568419648] Create Store: dist_async\u001b[0m\n",
      "\u001b[31m[03/07/2018 00:55:09 INFO 140341568419648] nvidia-smi took: 0.025249004364 secs to identify 0 gpus\u001b[0m\n",
      "\u001b[31m[03/07/2018 00:55:09 INFO 140341568419648] Number of GPUs being used: 0\u001b[0m\n",
      "\u001b[31m[03/07/2018 00:55:09 INFO 140341568419648] Setting up with params: {u'k': u'10', u'_num_gpus': u'auto', u'local_lloyd_num_trials': u'auto', u'_log_level': u'info', u'_kvstore': u'auto', u'local_lloyd_init_method': u'kmeans++', u'force_dense': u'True', u'epochs': u'1', u'init_method': u'random', u'feature_dim': u'784', u'local_lloyd_tol': u'0.0001', u'local_lloyd_max_iter': u'300', u'_disable_wait_to_read': u'false', u'extra_center_factor': u'auto', u'eval_metrics': u'[\"msd\"]', u'_num_kv_servers': u'1', u'mini_batch_size': u'500', u'half_life_time_size': u'0', u'_num_slices': u'1'}\u001b[0m\n",
      "\u001b[31m/opt/amazon/lib/python2.7/site-packages/ai_algorithms_sdk/config/config_helper.py:170: DeprecationWarning: deprecated\n",
      "  warnings.warn(\"deprecated\", DeprecationWarning)\u001b[0m\n",
      "\u001b[31m/opt/amazon/lib/python2.7/site-packages/ai_algorithms_sdk/config/config_helper.py:120: DeprecationWarning: deprecated\n",
      "  warnings.warn(\"deprecated\", DeprecationWarning)\u001b[0m\n",
      "\u001b[31m[03/07/2018 00:55:09 INFO 140341568419648] Number of GPUs being used: 0\u001b[0m\n",
      "\u001b[31m[03/07/2018 00:55:09 INFO 140341568419648] number of center slices 1\u001b[0m\n",
      "\u001b[31m#metrics {\"Metrics\": {\"Max Batches Seen Between Resets\": {\"count\": 1, \"max\": 1, \"sum\": 1.0, \"min\": 1}, \"Number of Batches Since Last Reset\": {\"count\": 1, \"max\": 1, \"sum\": 1.0, \"min\": 1}, \"Number of Records Since Last Reset\": {\"count\": 1, \"max\": 500, \"sum\": 500.0, \"min\": 500}, \"Total Batches Seen\": {\"count\": 1, \"max\": 1, \"sum\": 1.0, \"min\": 1}, \"Total Records Seen\": {\"count\": 1, \"max\": 500, \"sum\": 500.0, \"min\": 500}, \"Max Records Seen Between Resets\": {\"count\": 1, \"max\": 500, \"sum\": 500.0, \"min\": 500}, \"Reset Count\": {\"count\": 1, \"max\": 0, \"sum\": 0.0, \"min\": 0}}, \"EndTime\": 1520384109.328939, \"Dimensions\": {\"Host\": \"algo-1\", \"Meta\": \"init_train_data_iter\", \"Operation\": \"training\", \"Algorithm\": \"AWS/KMeansWebscale\"}, \"StartTime\": 1520384109.328908}\n",
      "\u001b[0m\n",
      "\u001b[31m[03/07/2018 00:55:09 INFO 140341568419648] Iter 10: Short term msd 33.495196. Long term msd 35.269648\u001b[0m\n",
      "\u001b[31m[03/07/2018 00:55:09 INFO 140341568419648] Iter 20: Short term msd 31.097221. Long term msd 31.916437\u001b[0m\n",
      "\u001b[31m[03/07/2018 00:55:10 INFO 140341568419648] Iter 30: Short term msd 30.781557. Long term msd 31.076976\u001b[0m\n",
      "\u001b[31m[03/07/2018 00:55:10 INFO 140341568419648] Iter 40: Short term msd 30.057311. Long term msd 30.334946\u001b[0m\n",
      "\u001b[31m[03/07/2018 00:55:10 INFO 140341568419648] processed a total of 25000 examples\u001b[0m\n",
      "\u001b[31m#metrics {\"Metrics\": {\"Max Batches Seen Between Resets\": {\"count\": 1, \"max\": 50, \"sum\": 50.0, \"min\": 50}, \"Number of Batches Since Last Reset\": {\"count\": 1, \"max\": 50, \"sum\": 50.0, \"min\": 50}, \"Number of Records Since Last Reset\": {\"count\": 1, \"max\": 25000, \"sum\": 25000.0, \"min\": 25000}, \"Total Batches Seen\": {\"count\": 1, \"max\": 51, \"sum\": 51.0, \"min\": 51}, \"Total Records Seen\": {\"count\": 1, \"max\": 25500, \"sum\": 25500.0, \"min\": 25500}, \"Max Records Seen Between Resets\": {\"count\": 1, \"max\": 25000, \"sum\": 25000.0, \"min\": 25000}, \"Reset Count\": {\"count\": 1, \"max\": 1, \"sum\": 1.0, \"min\": 1}}, \"EndTime\": 1520384110.3358, \"Dimensions\": {\"Host\": \"algo-1\", \"Meta\": \"training_data_iter\", \"Operation\": \"training\", \"Algorithm\": \"AWS/KMeansWebscale\", \"epoch\": 0}, \"StartTime\": 1520384110.335754}\n",
      "\u001b[0m\n",
      "\u001b[31m[03/07/2018 00:55:10 INFO 140341568419648] shrinking 100 centers into 10\u001b[0m\n",
      "\u001b[31m[03/07/2018 00:55:10 INFO 140341568419648] local kmeans attempt #0. Current mean square distance 11.309774\u001b[0m\n",
      "\u001b[31m[03/07/2018 00:55:10 INFO 140341568419648] local kmeans attempt #1. Current mean square distance 11.581843\u001b[0m\n",
      "\u001b[31m[03/07/2018 00:55:10 INFO 140341568419648] local kmeans attempt #2. Current mean square distance 11.069760\u001b[0m\n",
      "\u001b[31m[03/07/2018 00:55:10 INFO 140341568419648] local kmeans attempt #3. Current mean square distance 11.272473\u001b[0m\n",
      "\u001b[31m[03/07/2018 00:55:10 INFO 140341568419648] local kmeans attempt #4. Current mean square distance 11.237001\u001b[0m\n",
      "\u001b[32mDocker entrypoint called with argument(s): train\u001b[0m\n",
      "\u001b[32m[03/07/2018 00:55:09 INFO 139942046390080] Reading default configuration from /opt/amazon/lib/python2.7/site-packages/algorithm/default-input.json: {u'_num_gpus': u'auto', u'local_lloyd_num_trials': u'auto', u'_log_level': u'info', u'_kvstore': u'auto', u'local_lloyd_init_method': u'kmeans++', u'force_dense': u'true', u'epochs': u'1', u'init_method': u'random', u'local_lloyd_tol': u'0.0001', u'local_lloyd_max_iter': u'300', u'_disable_wait_to_read': u'false', u'extra_center_factor': u'auto', u'eval_metrics': u'[\"msd\"]', u'_num_kv_servers': u'1', u'mini_batch_size': u'5000', u'half_life_time_size': u'0', u'_num_slices': u'1'}\u001b[0m\n",
      "\u001b[32m[03/07/2018 00:55:09 INFO 139942046390080] Reading provided configuration from /opt/ml/input/config/hyperparameters.json: {u'feature_dim': u'784', u'mini_batch_size': u'500', u'k': u'10', u'force_dense': u'True'}\u001b[0m\n",
      "\u001b[32m[03/07/2018 00:55:09 INFO 139942046390080] Final configuration: {u'k': u'10', u'_num_gpus': u'auto', u'local_lloyd_num_trials': u'auto', u'_log_level': u'info', u'_kvstore': u'auto', u'local_lloyd_init_method': u'kmeans++', u'force_dense': u'True', u'epochs': u'1', u'init_method': u'random', u'feature_dim': u'784', u'local_lloyd_tol': u'0.0001', u'local_lloyd_max_iter': u'300', u'_disable_wait_to_read': u'false', u'extra_center_factor': u'auto', u'eval_metrics': u'[\"msd\"]', u'_num_kv_servers': u'1', u'mini_batch_size': u'500', u'half_life_time_size': u'0', u'_num_slices': u'1'}\u001b[0m\n",
      "\u001b[32m[03/07/2018 00:55:09 WARNING 139942046390080] Loggers have already been setup.\u001b[0m\n",
      "\u001b[32m[03/07/2018 00:55:09 INFO 139942046390080] Environment: {'PROTOCOL_BUFFERS_PYTHON_IMPLEMENTATION_VERSION': '2', 'DMLC_PS_ROOT_PORT': '9000', 'DMLC_NUM_WORKER': '2', 'SAGEMAKER_HTTP_PORT': '8080', 'HOME': '/root', 'PYTHONUNBUFFERED': 'TRUE', 'CANONICAL_ENVROOT': '/opt/amazon', 'LD_LIBRARY_PATH': '/usr/local/nvidia/lib64::/opt/amazon/lib', 'MXNET_KVSTORE_BIGARRAY_BOUND': '400000000', 'LANG': 'en_US.utf8', 'DMLC_INTERFACE': 'ethwe', 'SHLVL': '1', 'DMLC_PS_ROOT_URI': '10.32.0.4', 'AWS_REGION': 'us-east-1', 'NVIDIA_VISIBLE_DEVICES': 'all', 'PATH': '/opt/amazon/bin:/usr/local/nvidia/bin:/usr/local/sbin:/usr/local/bin:/usr/sbin:/usr/bin:/sbin:/bin:/opt/amazon/bin:/opt/amazon/bin', 'PROTOCOL_BUFFERS_PYTHON_IMPLEMENTATION': 'cpp', 'ENVROOT': '/opt/amazon', 'SAGEMAKER_DATA_PATH': '/opt/ml', 'NVIDIA_DRIVER_CAPABILITIES': 'compute,utility', 'NVIDIA_REQUIRE_CUDA': 'cuda>=9.0', 'OMP_NUM_THREADS': '18', 'HOSTNAME': 'aws', 'AWS_CONTAINER_CREDENTIALS_RELATIVE_URI': '/v2/credentials/1e62d03c-896e-49ab-9d75-7fb9a1ddf875', 'DMLC_ROLE': 'worker', 'PWD': '/', 'DMLC_NUM_SERVER': '1'}\u001b[0m\n",
      "\u001b[32m[03/07/2018 00:55:09 INFO 139942046390080] Using default worker.\u001b[0m\n",
      "\u001b[32m[03/07/2018 00:55:09 INFO 139942046390080] Loaded iterator creator application/x-recordio-protobuf for content type ('application/x-recordio-protobuf', '1.0')\u001b[0m\n",
      "\u001b[32m[03/07/2018 00:55:09 INFO 139942046390080] Create Store: dist_async\u001b[0m\n",
      "\u001b[32m[03/07/2018 00:55:09 INFO 139942046390080] nvidia-smi took: 0.0252258777618 secs to identify 0 gpus\u001b[0m\n",
      "\u001b[32m[03/07/2018 00:55:09 INFO 139942046390080] Number of GPUs being used: 0\u001b[0m\n",
      "\u001b[32m[03/07/2018 00:55:09 INFO 139942046390080] Setting up with params: {u'k': u'10', u'_num_gpus': u'auto', u'local_lloyd_num_trials': u'auto', u'_log_level': u'info', u'_kvstore': u'auto', u'local_lloyd_init_method': u'kmeans++', u'force_dense': u'True', u'epochs': u'1', u'init_method': u'random', u'feature_dim': u'784', u'local_lloyd_tol': u'0.0001', u'local_lloyd_max_iter': u'300', u'_disable_wait_to_read': u'false', u'extra_center_factor': u'auto', u'eval_metrics': u'[\"msd\"]', u'_num_kv_servers': u'1', u'mini_batch_size': u'500', u'half_life_time_size': u'0', u'_num_slices': u'1'}\u001b[0m\n",
      "\u001b[32m/opt/amazon/lib/python2.7/site-packages/ai_algorithms_sdk/config/config_helper.py:170: DeprecationWarning: deprecated\n",
      "  warnings.warn(\"deprecated\", DeprecationWarning)\u001b[0m\n",
      "\u001b[32m/opt/amazon/lib/python2.7/site-packages/ai_algorithms_sdk/config/config_helper.py:120: DeprecationWarning: deprecated\n",
      "  warnings.warn(\"deprecated\", DeprecationWarning)\u001b[0m\n",
      "\u001b[32m[03/07/2018 00:55:09 INFO 139942046390080] Number of GPUs being used: 0\u001b[0m\n",
      "\u001b[32m[03/07/2018 00:55:09 INFO 139942046390080] number of center slices 1\u001b[0m\n",
      "\u001b[32m#metrics {\"Metrics\": {\"Max Batches Seen Between Resets\": {\"count\": 1, \"max\": 1, \"sum\": 1.0, \"min\": 1}, \"Number of Batches Since Last Reset\": {\"count\": 1, \"max\": 1, \"sum\": 1.0, \"min\": 1}, \"Number of Records Since Last Reset\": {\"count\": 1, \"max\": 500, \"sum\": 500.0, \"min\": 500}, \"Total Batches Seen\": {\"count\": 1, \"max\": 1, \"sum\": 1.0, \"min\": 1}, \"Total Records Seen\": {\"count\": 1, \"max\": 500, \"sum\": 500.0, \"min\": 500}, \"Max Records Seen Between Resets\": {\"count\": 1, \"max\": 500, \"sum\": 500.0, \"min\": 500}, \"Reset Count\": {\"count\": 1, \"max\": 0, \"sum\": 0.0, \"min\": 0}}, \"EndTime\": 1520384109.31519, \"Dimensions\": {\"Host\": \"algo-2\", \"Meta\": \"init_train_data_iter\", \"Operation\": \"training\", \"Algorithm\": \"AWS/KMeansWebscale\"}, \"StartTime\": 1520384109.315141}\n",
      "\u001b[0m\n",
      "\u001b[32m[03/07/2018 00:55:09 INFO 139942046390080] Iter 10: Short term msd 32.651918. Long term msd 33.960338\u001b[0m\n",
      "\u001b[32m[03/07/2018 00:55:09 INFO 139942046390080] Iter 20: Short term msd 32.792775. Long term msd 33.346524\u001b[0m\n",
      "\u001b[32m[03/07/2018 00:55:09 INFO 139942046390080] Iter 30: Short term msd 31.341825. Long term msd 31.993102\u001b[0m\n",
      "\u001b[32m[03/07/2018 00:55:09 INFO 139942046390080] Iter 40: Short term msd 30.403067. Long term msd 30.879740\u001b[0m\n",
      "\u001b[32m[03/07/2018 00:55:10 INFO 139942046390080] processed a total of 25000 examples\u001b[0m\n",
      "\u001b[32m#metrics {\"Metrics\": {\"Max Batches Seen Between Resets\": {\"count\": 1, \"max\": 50, \"sum\": 50.0, \"min\": 50}, \"Number of Batches Since Last Reset\": {\"count\": 1, \"max\": 50, \"sum\": 50.0, \"min\": 50}, \"Number of Records Since Last Reset\": {\"count\": 1, \"max\": 25000, \"sum\": 25000.0, \"min\": 25000}, \"Total Batches Seen\": {\"count\": 1, \"max\": 51, \"sum\": 51.0, \"min\": 51}, \"Total Records Seen\": {\"count\": 1, \"max\": 25500, \"sum\": 25500.0, \"min\": 25500}, \"Max Records Seen Between Resets\": {\"count\": 1, \"max\": 25000, \"sum\": 25000.0, \"min\": 25000}, \"Reset Count\": {\"count\": 1, \"max\": 1, \"sum\": 1.0, \"min\": 1}}, \"EndTime\": 1520384110.017111, \"Dimensions\": {\"Host\": \"algo-2\", \"Meta\": \"training_data_iter\", \"Operation\": \"training\", \"Algorithm\": \"AWS/KMeansWebscale\", \"epoch\": 0}, \"StartTime\": 1520384110.017066}\n",
      "\u001b[0m\n",
      "\u001b[32m[03/07/2018 00:55:10 INFO 139942046390080] shrinking 100 centers into 10\u001b[0m\n",
      "\u001b[32m[03/07/2018 00:55:10 INFO 139942046390080] local kmeans attempt #0. Current mean square distance 11.208177\u001b[0m\n",
      "\u001b[32m[03/07/2018 00:55:10 INFO 139942046390080] local kmeans attempt #1. Current mean square distance 11.441737\u001b[0m\n",
      "\u001b[32m[03/07/2018 00:55:10 INFO 139942046390080] local kmeans attempt #2. Current mean square distance 11.023246\u001b[0m\n",
      "\u001b[32m[03/07/2018 00:55:10 INFO 139942046390080] local kmeans attempt #3. Current mean square distance 11.583768\u001b[0m\n",
      "\u001b[32m[03/07/2018 00:55:10 INFO 139942046390080] local kmeans attempt #4. Current mean square distance 11.137177\u001b[0m\n",
      "\u001b[32m[03/07/2018 00:55:10 INFO 139942046390080] local kmeans attempt #5. Current mean square distance 10.997281\u001b[0m\n",
      "\u001b[32m[03/07/2018 00:55:10 INFO 139942046390080] local kmeans attempt #6. Current mean square distance 10.602804\u001b[0m\n",
      "\u001b[32m[03/07/2018 00:55:10 INFO 139942046390080] local kmeans attempt #7. Current mean square distance 11.111898\u001b[0m\n",
      "\u001b[32m[03/07/2018 00:55:10 INFO 139942046390080] local kmeans attempt #8. Current mean square distance 11.067146\u001b[0m\n",
      "\u001b[32m[03/07/2018 00:55:10 INFO 139942046390080] local kmeans attempt #9. Current mean square distance 11.285197\u001b[0m\n",
      "\u001b[32m[03/07/2018 00:55:10 INFO 139942046390080] finished shrinking process. Mean Square Distance = 11\u001b[0m\n",
      "\u001b[32m[03/07/2018 00:55:10 INFO 139942046390080] compute all data-center distances: point norm took: 31.6537%, (0.221238 secs)\u001b[0m\n",
      "\u001b[32m[03/07/2018 00:55:10 INFO 139942046390080] batch data loading with context took: 21.4403%, (0.149853 secs)\u001b[0m\n",
      "\u001b[32m[03/07/2018 00:55:10 INFO 139942046390080] collect from kv store took: 15.7388%, (0.110004 secs)\u001b[0m\n",
      "\u001b[32m[03/07/2018 00:55:10 INFO 139942046390080] predict compute msd took: 8.0992%, (0.056608 secs)\u001b[0m\n",
      "\u001b[32m[03/07/2018 00:55:10 INFO 139942046390080] compute all data-center distances: center norm took: 6.7268%, (0.047016 secs)\u001b[0m\n",
      "\u001b[32m[03/07/2018 00:55:10 INFO 139942046390080] gradient: cluster size  took: 4.4276%, (0.030946 secs)\u001b[0m\n",
      "\u001b[32m[03/07/2018 00:55:10 INFO 139942046390080] compute all data-center distances: inner product took: 4.4008%, (0.030759 secs)\u001b[0m\n",
      "\u001b[32m[03/07/2018 00:55:10 INFO 139942046390080] gradient: cluster center took: 3.7522%, (0.026225 secs)\u001b[0m\n",
      "\u001b[32m[03/07/2018 00:55:10 INFO 139942046390080] update state and report convergance took: 1.3348%, (0.009330 secs)\u001b[0m\n",
      "\u001b[32m[03/07/2018 00:55:10 INFO 139942046390080] splitting centers key-value pair took: 1.1989%, (0.008379 secs)\u001b[0m\n",
      "\u001b[32m[03/07/2018 00:55:10 INFO 139942046390080] gradient: one_hot took: 1.0538%, (0.007365 secs)\u001b[0m\n",
      "\u001b[32m[03/07/2018 00:55:10 INFO 139942046390080] predict minus dist took: 0.1347%, (0.000942 secs)\u001b[0m\n",
      "\u001b[32m[03/07/2018 00:55:10 INFO 139942046390080] update set-up time took: 0.0383%, (0.000268 secs)\u001b[0m\n",
      "\u001b[32m[03/07/2018 00:55:10 INFO 139942046390080] TOTAL took: 0.698932647705\u001b[0m\n",
      "\u001b[32m[03/07/2018 00:55:10 INFO 139942046390080] Number of GPUs being used: 0\u001b[0m\n",
      "\u001b[32m[03/07/2018 00:55:10 INFO 139942046390080] No model is serialized on a non-master node\u001b[0m\n",
      "\u001b[32m#metrics {\"Metrics\": {\"finalize.time\": {\"count\": 1, \"max\": 346.88711166381836, \"sum\": 346.88711166381836, \"min\": 346.88711166381836}, \"initialize.time\": {\"count\": 1, \"max\": 31.468868255615234, \"sum\": 31.468868255615234, \"min\": 31.468868255615234}, \"model.serialize.time\": {\"count\": 1, \"max\": 0.23698806762695312, \"sum\": 0.23698806762695312, \"min\": 0.23698806762695312}, \"update.time\": {\"count\": 1, \"max\": 701.6208171844482, \"sum\": 701.6208171844482, \"min\": 701.6208171844482}, \"epochs\": {\"count\": 1, \"max\": 1, \"sum\": 1.0, \"min\": 1}, \"state.serialize.time\": {\"count\": 1, \"max\": 0.4038810729980469, \"sum\": 0.4038810729980469, \"min\": 0.4038810729980469}, \"_shrink.time\": {\"count\": 1, \"max\": 343.2900905609131, \"sum\": 343.2900905609131, \"min\": 343.2900905609131}}, \"EndTime\": 1520384110.670177, \"Dimensions\": {\"Host\": \"algo-2\", \"Operation\": \"training\", \"Algorithm\": \"AWS/KMeansWebscale\"}, \"StartTime\": 1520384109.269943}\n",
      "\u001b[0m\n",
      "\u001b[32m[03/07/2018 00:55:10 INFO 139942046390080] Test data was not provided.\u001b[0m\n",
      "\u001b[32m#metrics {\"Metrics\": {\"totaltime\": {\"count\": 1, \"max\": 1482.0830821990967, \"sum\": 1482.0830821990967, \"min\": 1482.0830821990967}, \"setuptime\": {\"count\": 1, \"max\": 24.621009826660156, \"sum\": 24.621009826660156, \"min\": 24.621009826660156}}, \"EndTime\": 1520384110.672169, \"Dimensions\": {\"Host\": \"algo-2\", \"Operation\": \"training\", \"Algorithm\": \"AWS/KMeansWebscale\"}, \"StartTime\": 1520384110.670282}\n",
      "\u001b[0m\n",
      "\u001b[31m[03/07/2018 00:55:10 INFO 140341568419648] local kmeans attempt #5. Current mean square distance 11.314378\u001b[0m\n",
      "\u001b[31m[03/07/2018 00:55:10 INFO 140341568419648] local kmeans attempt #6. Current mean square distance 10.685678\u001b[0m\n",
      "\u001b[31m[03/07/2018 00:55:10 INFO 140341568419648] local kmeans attempt #7. Current mean square distance 11.070602\u001b[0m\n",
      "\u001b[31m[03/07/2018 00:55:10 INFO 140341568419648] local kmeans attempt #8. Current mean square distance 11.038697\u001b[0m\n",
      "\u001b[31m[03/07/2018 00:55:10 INFO 140341568419648] local kmeans attempt #9. Current mean square distance 11.012729\u001b[0m\n",
      "\u001b[31m[03/07/2018 00:55:10 INFO 140341568419648] finished shrinking process. Mean Square Distance = 11\u001b[0m\n",
      "\u001b[31m[03/07/2018 00:55:10 INFO 140341568419648] compute all data-center distances: point norm took: 44.3476%, (0.442605 secs)\u001b[0m\n",
      "\u001b[31m[03/07/2018 00:55:10 INFO 140341568419648] batch data loading with context took: 22.3162%, (0.222723 secs)\u001b[0m\n",
      "\u001b[31m[03/07/2018 00:55:10 INFO 140341568419648] predict compute msd took: 6.8778%, (0.068643 secs)\u001b[0m\n",
      "\u001b[31m[03/07/2018 00:55:10 INFO 140341568419648] compute all data-center distances: center norm took: 6.7259%, (0.067127 secs)\u001b[0m\n",
      "\u001b[31m[03/07/2018 00:55:10 INFO 140341568419648] gradient: cluster size  took: 4.0692%, (0.040612 secs)\u001b[0m\n",
      "\u001b[31m[03/07/2018 00:55:10 INFO 140341568419648] compute all data-center distances: inner product took: 4.0530%, (0.040451 secs)\u001b[0m\n",
      "\u001b[31m[03/07/2018 00:55:10 INFO 140341568419648] collect from kv store took: 3.8647%, (0.038572 secs)\u001b[0m\n",
      "\u001b[31m[03/07/2018 00:55:10 INFO 140341568419648] gradient: cluster center took: 3.5807%, (0.035737 secs)\u001b[0m\n",
      "\u001b[31m[03/07/2018 00:55:10 INFO 140341568419648] update state and report convergance took: 2.2703%, (0.022658 secs)\u001b[0m\n",
      "\u001b[31m[03/07/2018 00:55:10 INFO 140341568419648] splitting centers key-value pair took: 1.0320%, (0.010299 secs)\u001b[0m\n",
      "\u001b[31m[03/07/2018 00:55:10 INFO 140341568419648] gradient: one_hot took: 0.7090%, (0.007077 secs)\u001b[0m\n",
      "\u001b[31m[03/07/2018 00:55:10 INFO 140341568419648] predict minus dist took: 0.1237%, (0.001235 secs)\u001b[0m\n",
      "\u001b[31m[03/07/2018 00:55:10 INFO 140341568419648] update set-up time took: 0.0299%, (0.000298 secs)\u001b[0m\n",
      "\u001b[31m[03/07/2018 00:55:10 INFO 140341568419648] TOTAL took: 0.998036623001\u001b[0m\n",
      "\u001b[31m[03/07/2018 00:55:10 INFO 140341568419648] Number of GPUs being used: 0\u001b[0m\n",
      "\u001b[31m#metrics {\"Metrics\": {\"finalize.time\": {\"count\": 1, \"max\": 341.19296073913574, \"sum\": 341.19296073913574, \"min\": 341.19296073913574}, \"initialize.time\": {\"count\": 1, \"max\": 31.73089027404785, \"sum\": 31.73089027404785, \"min\": 31.73089027404785}, \"model.serialize.time\": {\"count\": 1, \"max\": 0.30303001403808594, \"sum\": 0.30303001403808594, \"min\": 0.30303001403808594}, \"update.time\": {\"count\": 1, \"max\": 1006.5698623657227, \"sum\": 1006.5698623657227, \"min\": 1006.5698623657227}, \"epochs\": {\"count\": 1, \"max\": 1, \"sum\": 1.0, \"min\": 1}, \"state.serialize.time\": {\"count\": 1, \"max\": 0.4761219024658203, \"sum\": 0.4761219024658203, \"min\": 0.4761219024658203}, \"_shrink.time\": {\"count\": 1, \"max\": 339.0040397644043, \"sum\": 339.0040397644043, \"min\": 339.0040397644043}}, \"EndTime\": 1520384110.678277, \"Dimensions\": {\"Host\": \"algo-1\", \"Operation\": \"training\", \"Algorithm\": \"AWS/KMeansWebscale\"}, \"StartTime\": 1520384109.283521}\n",
      "\u001b[0m\n",
      "\u001b[31m[03/07/2018 00:55:10 INFO 140341568419648] Test data was not provided.\u001b[0m\n",
      "\u001b[31m#metrics {\"Metrics\": {\"totaltime\": {\"count\": 1, \"max\": 3585.8938694000244, \"sum\": 3585.8938694000244, \"min\": 3585.8938694000244}, \"setuptime\": {\"count\": 1, \"max\": 28.981924057006836, \"sum\": 28.981924057006836, \"min\": 28.981924057006836}}, \"EndTime\": 1520384110.680102, \"Dimensions\": {\"Host\": \"algo-1\", \"Operation\": \"training\", \"Algorithm\": \"AWS/KMeansWebscale\"}, \"StartTime\": 1520384110.678351}\n",
      "\u001b[0m\n"
     ]
    },
    {
     "name": "stdout",
     "output_type": "stream",
     "text": [
      "===== Job Complete =====\n",
      "CPU times: user 8.57 s, sys: 420 ms, total: 8.99 s\n",
      "Wall time: 7min 54s\n"
     ]
    }
   ],
   "source": [
    "%%time\n",
    "\n",
    "kmeans.fit(kmeans.record_set(train_set[0]))"
   ]
  },
  {
   "cell_type": "markdown",
   "metadata": {},
   "source": [
    "## Set up hosting for the model\n",
    "Now, we can deploy the model we just trained behind a real-time hosted endpoint.  This next step can take, on average, 7 to 11 minutes to complete."
   ]
  },
  {
   "cell_type": "code",
   "execution_count": 8,
   "metadata": {},
   "outputs": [
    {
     "name": "stderr",
     "output_type": "stream",
     "text": [
      "INFO:sagemaker:Creating model with name: kmeans-2018-03-07-00-57-03-636\n",
      "INFO:sagemaker:Creating endpoint with name kmeans-2018-03-07-00-49-19-741\n"
     ]
    },
    {
     "name": "stdout",
     "output_type": "stream",
     "text": [
      "---------------------------------------------------------------------------------------------------------------!CPU times: user 432 ms, sys: 44 ms, total: 476 ms\n",
      "Wall time: 9min 35s\n"
     ]
    }
   ],
   "source": [
    "%%time\n",
    "\n",
    "kmeans_predictor = kmeans.deploy(initial_instance_count=1,\n",
    "                                 instance_type='ml.m4.xlarge')"
   ]
  },
  {
   "cell_type": "markdown",
   "metadata": {},
   "source": [
    "## Validate the model for use\n",
    "Finally, we'll validate the model for use. Let's generate a classification for a single observation from the trained model using the endpoint we just created."
   ]
  },
  {
   "cell_type": "code",
   "execution_count": 9,
   "metadata": {},
   "outputs": [
    {
     "name": "stdout",
     "output_type": "stream",
     "text": [
      "[label {\n",
      "  key: \"closest_cluster\"\n",
      "  value {\n",
      "    float32_tensor {\n",
      "      values: 4.0\n",
      "    }\n",
      "  }\n",
      "}\n",
      "label {\n",
      "  key: \"distance_to_cluster\"\n",
      "  value {\n",
      "    float32_tensor {\n",
      "      values: 7.277369499206543\n",
      "    }\n",
      "  }\n",
      "}\n",
      "]\n"
     ]
    }
   ],
   "source": [
    "result = kmeans_predictor.predict(train_set[0][30:31])\n",
    "print(result)"
   ]
  },
  {
   "cell_type": "markdown",
   "metadata": {},
   "source": [
    "OK, a single prediction works.\n",
    "\n",
    "Let's do a whole batch and see how well the clustering works."
   ]
  },
  {
   "cell_type": "code",
   "execution_count": 10,
   "metadata": {},
   "outputs": [
    {
     "name": "stdout",
     "output_type": "stream",
     "text": [
      "CPU times: user 24 ms, sys: 0 ns, total: 24 ms\n",
      "Wall time: 302 ms\n"
     ]
    }
   ],
   "source": [
    "%%time \n",
    "\n",
    "result = kmeans_predictor.predict(valid_set[0][0:100])\n",
    "clusters = [r.label['closest_cluster'].float32_tensor.values[0] for r in result]"
   ]
  },
  {
   "cell_type": "code",
   "execution_count": 11,
   "metadata": {},
   "outputs": [
    {
     "name": "stdout",
     "output_type": "stream",
     "text": [
      "\n",
      "\n",
      "\n",
      "Cluster 0:\n"
     ]
    },
    {
     "data": {
      "image/png": "[encoded data removed]",
      "text/plain": [
       "<matplotlib.figure.Figure at 0x7f69e511ce80>"
      ]
     },
     "metadata": {},
     "output_type": "display_data"
    },
    {
     "name": "stdout",
     "output_type": "stream",
     "text": [
      "\n",
      "\n",
      "\n",
      "Cluster 1:\n"
     ]
    },
    {
     "data": {
      "image/png": "[encoded data removed]",
      "text/plain": [
       "<matplotlib.figure.Figure at 0x7f69b88b1358>"
      ]
     },
     "metadata": {},
     "output_type": "display_data"
    },
    {
     "name": "stdout",
     "output_type": "stream",
     "text": [
      "\n",
      "\n",
      "\n",
      "Cluster 2:\n"
     ]
    },
    {
     "data": {
      "image/png": "[encoded data removed]",
      "text/plain": [
       "<matplotlib.figure.Figure at 0x7f69b8795550>"
      ]
     },
     "metadata": {},
     "output_type": "display_data"
    },
    {
     "name": "stdout",
     "output_type": "stream",
     "text": [
      "\n",
      "\n",
      "\n",
      "Cluster 3:\n"
     ]
    },
    {
     "data": {
      "image/png": "[encoded data removed]",
      "text/plain": [
       "<matplotlib.figure.Figure at 0x7f69b88b1b00>"
      ]
     },
     "metadata": {},
     "output_type": "display_data"
    },
    {
     "name": "stdout",
     "output_type": "stream",
     "text": [
      "\n",
      "\n",
      "\n",
      "Cluster 4:\n"
     ]
    },
    {
     "data": {
      "image/png": "[encoded data removed]",
      "text/plain": [
       "<matplotlib.figure.Figure at 0x7f69b8454f98>"
      ]
     },
     "metadata": {},
     "output_type": "display_data"
    },
    {
     "name": "stdout",
     "output_type": "stream",
     "text": [
      "\n",
      "\n",
      "\n",
      "Cluster 5:\n"
     ]
    },
    {
     "data": {
      "image/png": "[encoded data removed]",
      "text/plain": [
       "<matplotlib.figure.Figure at 0x7f69b8122438>"
      ]
     },
     "metadata": {},
     "output_type": "display_data"
    },
    {
     "name": "stdout",
     "output_type": "stream",
     "text": [
      "\n",
      "\n",
      "\n",
      "Cluster 6:\n"
     ]
    },
    {
     "data": {
      "image/png": "[encoded data removed]",
      "text/plain": [
       "<matplotlib.figure.Figure at 0x7f69b825fe80>"
      ]
     },
     "metadata": {},
     "output_type": "display_data"
    },
    {
     "name": "stdout",
     "output_type": "stream",
     "text": [
      "\n",
      "\n",
      "\n",
      "Cluster 7:\n"
     ]
    },
    {
     "data": {
      "image/png": "[encoded data removed]",
      "text/plain": [
       "<matplotlib.figure.Figure at 0x7f69b8318390>"
      ]
     },
     "metadata": {},
     "output_type": "display_data"
    },
    {
     "name": "stdout",
     "output_type": "stream",
     "text": [
      "\n",
      "\n",
      "\n",
      "Cluster 8:\n"
     ]
    },
    {
     "data": {
      "image/png": "[encoded data removed]",
      "text/plain": [
       "<matplotlib.figure.Figure at 0x7f69b8c72f28>"
      ]
     },
     "metadata": {},
     "output_type": "display_data"
    },
    {
     "name": "stdout",
     "output_type": "stream",
     "text": [
      "\n",
      "\n",
      "\n",
      "Cluster 9:\n"
     ]
    },
    {
     "data": {
      "image/png": "[encoded data removed]",
      "text/plain": [
       "<matplotlib.figure.Figure at 0x7f69b85d3ef0>"
      ]
     },
     "metadata": {},
     "output_type": "display_data"
    }
   ],
   "source": [
    "for cluster in range(10):\n",
    "    print('\\n\\n\\nCluster {}:'.format(int(cluster)))\n",
    "    digits = [ img for l, img in zip(clusters, valid_set[0]) if int(l) == cluster ]\n",
    "    height=((len(digits)-1)//5)+1\n",
    "    width=5\n",
    "    plt.rcParams[\"figure.figsize\"] = (width,height)\n",
    "    _, subplots = plt.subplots(height, width)\n",
    "    subplots=numpy.ndarray.flatten(subplots)\n",
    "    for subplot, image in zip(subplots, digits):\n",
    "        show_digit(image, subplot=subplot)\n",
    "    for subplot in subplots[len(digits):]:\n",
    "        subplot.axis('off')\n",
    "\n",
    "    plt.show()"
   ]
  },
  {
   "cell_type": "markdown",
   "metadata": {},
   "source": [
    "### The bottom line\n",
    "\n",
    "K-Means clustering is not the best algorithm for image analysis problems, but we do see pretty reasonable clusters being built."
   ]
  },
  {
   "cell_type": "markdown",
   "metadata": {},
   "source": [
    "### (Optional) Delete the Endpoint\n",
    "If you're ready to be done with this notebook, make sure run the cell below.  This will remove the hosted endpoint you created and avoid any charges from a stray instance being left on."
   ]
  },
  {
   "cell_type": "code",
   "execution_count": 12,
   "metadata": {},
   "outputs": [
    {
     "name": "stdout",
     "output_type": "stream",
     "text": [
      "kmeans-2018-03-07-00-49-19-741\n"
     ]
    }
   ],
   "source": [
    "print(kmeans_predictor.endpoint)"
   ]
  },
  {
   "cell_type": "code",
   "execution_count": 13,
   "metadata": {},
   "outputs": [
    {
     "name": "stderr",
     "output_type": "stream",
     "text": [
      "INFO:sagemaker:Deleting endpoint with name: kmeans-2018-03-07-00-49-19-741\n"
     ]
    }
   ],
   "source": [
    "import sagemaker\n",
    "sagemaker.Session().delete_endpoint(kmeans_predictor.endpoint)"
   ]
  }
 ],
 "metadata": {
  "kernelspec": {
   "display_name": "conda_python3",
   "language": "python",
   "name": "conda_python3"
  },
  "language_info": {
   "codemirror_mode": {
    "name": "ipython",
    "version": 3
   },
   "file_extension": ".py",
   "mimetype": "text/x-python",
   "name": "python",
   "nbconvert_exporter": "python",
   "pygments_lexer": "ipython3",
   "version": "3.6.2"
  },
  "notice": "Copyright 2017 Amazon.com, Inc. or its affiliates. All Rights Reserved.  Licensed under the Apache License, Version 2.0 (the \"License\"). You may not use this file except in compliance with the License. A copy of the License is located at http://aws.amazon.com/apache2.0/ or in the \"license\" file accompanying this file. This file is distributed on an \"AS IS\" BASIS, WITHOUT WARRANTIES OR CONDITIONS OF ANY KIND, either express or implied. See the License for the specific language governing permissions and limitations under the License."
 },
 "nbformat": 4,
 "nbformat_minor": 2
}
