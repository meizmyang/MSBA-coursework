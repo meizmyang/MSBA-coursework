{
 "cells": [
  {
   "cell_type": "markdown",
   "metadata": {},
   "source": [
    "# Titanic Survival Analysis ---- My First Notebook"
   ]
  },
  {
   "cell_type": "markdown",
   "metadata": {},
   "source": [
    "Kaggle Competition For Starters: https://www.kaggle.com/c/titanic"
   ]
  },
  {
   "cell_type": "code",
   "execution_count": 5,
   "metadata": {
    "_cell_guid": "31571a51-7271-463f-9cfa-ad516d62f8d2",
    "_uuid": "3e8ed9535a7d0e195fbb551109542f010ec5ca45",
    "collapsed": true
   },
   "outputs": [],
   "source": [
    "# Import packages: numpy, pandas, matplotlib, seaborn, scikit-learn\n",
    "import numpy as np\n",
    "import pandas as pd\n",
    "from pandas import Series\n",
    "from pandas import DataFrame\n",
    "import matplotlib.pyplot as plt\n",
    "import seaborn as sns\n",
    "###? sns.set_style('whitegrid')\n",
    "%matplotlib inline\n",
    "\n",
    "from sklearn.linear_model import LogisticRegression\n",
    "from sklearn.svm import SVC, LinearSVC\n",
    "from sklearn.ensemble import RandomForestClassifier\n",
    "from sklearn.neighbors import KNeighborsClassifier\n",
    "from sklearn.naive_bayes import GaussianNB"
   ]
  },
  {
   "cell_type": "code",
   "execution_count": 6,
   "metadata": {
    "_cell_guid": "5168f1fb-6121-4469-a3d4-420fccc91b34",
    "_uuid": "7d4fb8742bfd676c0275a74748d5fa68d09880da"
   },
   "outputs": [
    {
     "data": {
      "text/html": [
       "<div>\n",
       "<style>\n",
       "    .dataframe thead tr:only-child th {\n",
       "        text-align: right;\n",
       "    }\n",
       "\n",
       "    .dataframe thead th {\n",
       "        text-align: left;\n",
       "    }\n",
       "\n",
       "    .dataframe tbody tr th {\n",
       "        vertical-align: top;\n",
       "    }\n",
       "</style>\n",
       "<table border=\"1\" class=\"dataframe\">\n",
       "  <thead>\n",
       "    <tr style=\"text-align: right;\">\n",
       "      <th></th>\n",
       "      <th>PassengerId</th>\n",
       "      <th>Pclass</th>\n",
       "      <th>Age</th>\n",
       "      <th>SibSp</th>\n",
       "      <th>Parch</th>\n",
       "      <th>Fare</th>\n",
       "    </tr>\n",
       "  </thead>\n",
       "  <tbody>\n",
       "    <tr>\n",
       "      <th>count</th>\n",
       "      <td>418.000000</td>\n",
       "      <td>418.000000</td>\n",
       "      <td>332.000000</td>\n",
       "      <td>418.000000</td>\n",
       "      <td>418.000000</td>\n",
       "      <td>417.000000</td>\n",
       "    </tr>\n",
       "    <tr>\n",
       "      <th>mean</th>\n",
       "      <td>1100.500000</td>\n",
       "      <td>2.265550</td>\n",
       "      <td>30.272590</td>\n",
       "      <td>0.447368</td>\n",
       "      <td>0.392344</td>\n",
       "      <td>35.627188</td>\n",
       "    </tr>\n",
       "    <tr>\n",
       "      <th>std</th>\n",
       "      <td>120.810458</td>\n",
       "      <td>0.841838</td>\n",
       "      <td>14.181209</td>\n",
       "      <td>0.896760</td>\n",
       "      <td>0.981429</td>\n",
       "      <td>55.907576</td>\n",
       "    </tr>\n",
       "    <tr>\n",
       "      <th>min</th>\n",
       "      <td>892.000000</td>\n",
       "      <td>1.000000</td>\n",
       "      <td>0.170000</td>\n",
       "      <td>0.000000</td>\n",
       "      <td>0.000000</td>\n",
       "      <td>0.000000</td>\n",
       "    </tr>\n",
       "    <tr>\n",
       "      <th>25%</th>\n",
       "      <td>996.250000</td>\n",
       "      <td>1.000000</td>\n",
       "      <td>21.000000</td>\n",
       "      <td>0.000000</td>\n",
       "      <td>0.000000</td>\n",
       "      <td>7.895800</td>\n",
       "    </tr>\n",
       "    <tr>\n",
       "      <th>50%</th>\n",
       "      <td>1100.500000</td>\n",
       "      <td>3.000000</td>\n",
       "      <td>27.000000</td>\n",
       "      <td>0.000000</td>\n",
       "      <td>0.000000</td>\n",
       "      <td>14.454200</td>\n",
       "    </tr>\n",
       "    <tr>\n",
       "      <th>75%</th>\n",
       "      <td>1204.750000</td>\n",
       "      <td>3.000000</td>\n",
       "      <td>39.000000</td>\n",
       "      <td>1.000000</td>\n",
       "      <td>0.000000</td>\n",
       "      <td>31.500000</td>\n",
       "    </tr>\n",
       "    <tr>\n",
       "      <th>max</th>\n",
       "      <td>1309.000000</td>\n",
       "      <td>3.000000</td>\n",
       "      <td>76.000000</td>\n",
       "      <td>8.000000</td>\n",
       "      <td>9.000000</td>\n",
       "      <td>512.329200</td>\n",
       "    </tr>\n",
       "  </tbody>\n",
       "</table>\n",
       "</div>"
      ],
      "text/plain": [
       "       PassengerId      Pclass         Age       SibSp       Parch        Fare\n",
       "count   418.000000  418.000000  332.000000  418.000000  418.000000  417.000000\n",
       "mean   1100.500000    2.265550   30.272590    0.447368    0.392344   35.627188\n",
       "std     120.810458    0.841838   14.181209    0.896760    0.981429   55.907576\n",
       "min     892.000000    1.000000    0.170000    0.000000    0.000000    0.000000\n",
       "25%     996.250000    1.000000   21.000000    0.000000    0.000000    7.895800\n",
       "50%    1100.500000    3.000000   27.000000    0.000000    0.000000   14.454200\n",
       "75%    1204.750000    3.000000   39.000000    1.000000    0.000000   31.500000\n",
       "max    1309.000000    3.000000   76.000000    8.000000    9.000000  512.329200"
      ]
     },
     "execution_count": 6,
     "metadata": {},
     "output_type": "execute_result"
    }
   ],
   "source": [
    "# Import CSV to Dateframe\n",
    "titanic_df = pd.read_csv('train.csv')\n",
    "test_df = pd.read_csv('test.csv')\n",
    "\n",
    "# First glance at the datasets\n",
    "titanic_df.head()\n",
    "titanic_df.describe()\n",
    "###titanic_df.info()\n",
    "\n",
    "test_df.head()\n",
    "test_df.describe()\n",
    "###test_df.info()\n",
    "\n",
    "##### from info we can know: \n",
    "#####1, missing values: train_df-Age,Carbin,Embarked / test_df-Age,Fare,Cabin -- Deal with missing values\n",
    "#####2, object variables include: Name, Sex, Ticket, Carbin, Embarked -- Need transformation to numbers "
   ]
  },
  {
   "cell_type": "code",
   "execution_count": 7,
   "metadata": {
    "_cell_guid": "08d18cfd-cabd-44f8-a83f-fee2233c1134",
    "_uuid": "e7091f7ed517f155d0d6db060f4bf26006dfffe8",
    "collapsed": true
   },
   "outputs": [],
   "source": [
    "################################## Data cleaning \n",
    "\n",
    "# Drop unnesscary varibles for analysis and prediction\n",
    "titanic_df = titanic_df.drop(['Name','Ticket'], axis=1)\n",
    "###?or: titanic_df = titanic_df.drop(columns=['Name', 'Ticket'])\n",
    "test_df = test_df.drop(['Name', 'Ticket'], axis=1)"
   ]
  },
  {
   "cell_type": "code",
   "execution_count": 8,
   "metadata": {
    "_cell_guid": "399764c3-24d7-4575-98b2-5c43f1cf25c2",
    "_uuid": "070023c48c53e114377cbc8064e7a2df5263a8e8"
   },
   "outputs": [
    {
     "name": "stderr",
     "output_type": "stream",
     "text": [
      "C:\\Users\\mibiy\\Anaconda2\\lib\\site-packages\\ipykernel_launcher.py:10: SettingWithCopyWarning: \n",
      "A value is trying to be set on a copy of a slice from a DataFrame\n",
      "\n",
      "See the caveats in the documentation: http://pandas.pydata.org/pandas-docs/stable/indexing.html#indexing-view-versus-copy\n",
      "  # Remove the CWD from sys.path while we load stuff.\n",
      "C:\\Users\\mibiy\\Anaconda2\\lib\\site-packages\\ipykernel_launcher.py:14: SettingWithCopyWarning: \n",
      "A value is trying to be set on a copy of a slice from a DataFrame\n",
      "\n",
      "See the caveats in the documentation: http://pandas.pydata.org/pandas-docs/stable/indexing.html#indexing-view-versus-copy\n",
      "  \n"
     ]
    }
   ],
   "source": [
    "#Deal with missing values\n",
    "\n",
    "### check missing values in datasets\n",
    "titanic_df.isnull().sum()\n",
    "test_df.isnull().sum()\n",
    "\n",
    "### Missing values in Embarked(only in train_df) ---- replace with mode\n",
    "##### missing rows: print(titanic_df.Embarked[titanic_df.Embarked.isnull()])\n",
    "##### Embarked is an object ---- '.values'\n",
    "titanic_df.Embarked[titanic_df.Embarked.isnull()] = titanic_df.Embarked.dropna().mode().values\n",
    "\n",
    "### Missing values in Fare(only in test_df) ---- replace with median\n",
    "##### missing rows:print(test_df.Fare[test_df.Fare.isnull()])\n",
    "test_df.Fare[test_df.Fare.isnull()] = test_df.Fare.dropna().median()\n",
    "\n",
    "### Missing values in Cabin ---- replace with \"c0\"/delete\n",
    "######Method 1:a big number of missing values in Cabin; missing values might represent people without a cabin\n",
    "    ####### titanic_df.Cabin[titanic_df.Cabin.isnull()] = 'c0'\n",
    "    ####### test_df.Cabin[test_df.Cabin.isnull()] = 'c0'\n",
    "#####Method 2:a big number of missing values in Cabin might impact prediction accuracy----delete variable\n",
    "titanic_df = titanic_df.drop(['Cabin'], axis=1)\n",
    "test_df = test_df.drop(['Cabin'], axis=1)"
   ]
  },
  {
   "cell_type": "code",
   "execution_count": 9,
   "metadata": {
    "_cell_guid": "55a76e41-f8f1-40ad-a721-53ae63a02d22",
    "_uuid": "e5915351f3e7f72aaa6917619068a3f4710acd2b",
    "collapsed": true
   },
   "outputs": [],
   "source": [
    "### Missing values in Age ---- replace with random forest prediction values\n",
    "###### Age is an important attribute in the final prediction, thus its accuracy needs to be high\n",
    "#choose training data to predict age\n",
    "age_df = titanic_df[['Age', 'Survived', 'SibSp', 'Parch', 'Fare', 'Pclass']]\n",
    "age_df_isnull = age_df.loc[(titanic_df.Age.isnull())]\n",
    "age_df_notnull = age_df.loc[(titanic_df.Age.notnull())]\n",
    "X = age_df_notnull.values[ : , 1 : ]\n",
    "Y = age_df_notnull.values[ : , 0 ]\n",
    "###print(X)\n",
    "###print(Y)\n",
    "\n",
    "#use random forest to train data\n",
    "from sklearn.ensemble import RandomForestRegressor\n",
    "\n",
    "rfr = RandomForestRegressor(n_estimators=1000,n_jobs=-1)\n",
    "rfr.fit(X,Y)\n",
    "predict_age = rfr.predict(age_df_isnull.values[:,1:])\n",
    "titanic_df.loc[(titanic_df.Age.isnull()),'Age'] = predict_age\n",
    "\n",
    "#use the same method to predict missing values of age in test data\n",
    "age_df_test = test_df[['Age', 'SibSp', 'Parch', 'Fare', 'Pclass']]\n",
    "age_df_isnull_test = age_df_test.loc[(test_df.Age.isnull())]\n",
    "age_df_notnull_test = age_df_test.loc[(test_df.Age.notnull())]\n",
    "X_test = age_df_notnull_test.values[ : , 1 : ]\n",
    "Y_test = age_df_notnull_test.values[ : , 0 ]\n",
    "\n",
    "rfr_test = RandomForestRegressor(n_estimators=1000,n_jobs=-1)\n",
    "rfr_test.fit(X_test,Y_test)\n",
    "predict_age_test = rfr_test.predict(age_df_isnull_test.values[:,1:])\n",
    "test_df.loc[(test_df.Age.isnull()),'Age'] = predict_age_test"
   ]
  },
  {
   "cell_type": "code",
   "execution_count": 10,
   "metadata": {
    "_cell_guid": "6a02545c-4af9-40f1-aaa0-4a92d9fcd526",
    "_uuid": "36f4764c463760d21c1e35b5d06ec6835ce4249a",
    "collapsed": true
   },
   "outputs": [],
   "source": [
    "# convert float variables to int\n",
    "\n",
    "### Fare\n",
    "titanic_df['Fare'] = titanic_df['Fare'].astype(int)\n",
    "test_df['Fare']    = test_df['Fare'].astype(int)\n",
    "\n",
    "### Age\n",
    "titanic_df['Age'] = titanic_df['Age'].astype(int)\n",
    "test_df['Age']    = test_df['Age'].astype(int)"
   ]
  },
  {
   "cell_type": "code",
   "execution_count": 11,
   "metadata": {
    "_cell_guid": "e08bbd7d-ced2-4f4c-8fbd-7da7b3b8e52a",
    "_uuid": "72de39b045e3fe4bafbc5650dcf678410c20abdc",
    "collapsed": true
   },
   "outputs": [],
   "source": [
    "########################################Create New Variables\n",
    "\n",
    "# Create a new categorical variable ‘Alone' for passengers who travel alone\n",
    "titanic_df['Family']=titanic_df[\"SibSp\"]+titanic_df[\"Parch\"]\n",
    "titanic_df['Alone']=np.where(titanic_df['Family']>0, 0, 1)\n",
    "\n",
    "titanic_df.drop('SibSp', axis=1, inplace=True)\n",
    "titanic_df.drop('Parch', axis=1, inplace=True)\n",
    "titanic_df.drop('Family', axis=1, inplace=True)\n",
    "\n",
    "test_df['Family']=test_df[\"SibSp\"]+test_df[\"Parch\"]\n",
    "test_df['Alone']=np.where(test_df['Family']>0, 0, 1)\n",
    "\n",
    "test_df.drop('SibSp', axis=1, inplace=True)\n",
    "test_df.drop('Parch', axis=1, inplace=True)\n",
    "test_df.drop('Family', axis=1, inplace=True)"
   ]
  },
  {
   "cell_type": "code",
   "execution_count": 12,
   "metadata": {
    "_cell_guid": "d5451cab-7bcd-4374-95cb-91ee4e199bf7",
    "_uuid": "884b2b09f4e653a7904b9416cabaf9f1a55656bf",
    "collapsed": true
   },
   "outputs": [],
   "source": [
    "# Create a new categorical variable ‘Minor' for passengers who are younger than 16\n",
    "titanic_df['Minor']=np.where(titanic_df['Age']<=16, 1, 0)\n",
    "test_df['Minor']=np.where(test_df['Age']<=16, 1, 0)"
   ]
  },
  {
   "cell_type": "code",
   "execution_count": 13,
   "metadata": {
    "_cell_guid": "a85dbc9b-28a6-470b-b4b8-131995ff38b7",
    "_uuid": "7eb1282f4c3567e075c9e68fc53d8d9add856f61"
   },
   "outputs": [
    {
     "data": {
      "text/plain": [
       "<matplotlib.axes._subplots.AxesSubplot at 0x15b7f940>"
      ]
     },
     "execution_count": 13,
     "metadata": {},
     "output_type": "execute_result"
    },
    {
     "data": {
      "image/png": "[encoded data removed]",
      "text/plain": [
       "<matplotlib.figure.Figure at 0xe994a90>"
      ]
     },
     "metadata": {},
     "output_type": "display_data"
    },
    {
     "data": {
      "image/png": "[encoded data removed]",
      "text/plain": [
       "<matplotlib.figure.Figure at 0x130f7dd8>"
      ]
     },
     "metadata": {},
     "output_type": "display_data"
    }
   ],
   "source": [
    "######################Data Eploration & Visualization\n",
    "\n",
    "# Fare\n",
    "fare_notsurvived = titanic_df[\"Fare\"][titanic_df[\"Survived\"] == 0]\n",
    "fare_survived     = titanic_df[\"Fare\"][titanic_df[\"Survived\"] == 1]\n",
    "\n",
    "avgerage_fare = DataFrame([fare_notsurvived.mean(), fare_survived.mean()])\n",
    "std_fare      = DataFrame([fare_notsurvived.std(), fare_survived.std()])\n",
    "\n",
    "titanic_df['Fare'].plot(kind='hist', figsize=(15,3),bins=100, xlim=(0,50))\n",
    "\n",
    "avgerage_fare.index.names = std_fare.index.names = [\"Survived\"]\n",
    "avgerage_fare.plot(yerr=std_fare,kind='bar',legend=False) "
   ]
  },
  {
   "cell_type": "code",
   "execution_count": 14,
   "metadata": {
    "_cell_guid": "fa394bf3-349e-4331-8099-0a098afbd89c",
    "_uuid": "75216a71a6a7ec901b86dd020dbaca991d49f53b"
   },
   "outputs": [
    {
     "data": {
      "image/png": "[encoded data removed]",
      "text/plain": [
       "<matplotlib.figure.Figure at 0x15cd20b8>"
      ]
     },
     "metadata": {},
     "output_type": "display_data"
    },
    {
     "data": {
      "text/plain": [
       "<matplotlib.axes._subplots.AxesSubplot at 0xe9945c0>"
      ]
     },
     "execution_count": 14,
     "metadata": {},
     "output_type": "execute_result"
    },
    {
     "data": {
      "image/png": "[encoded data removed]",
      "text/plain": [
       "<matplotlib.figure.Figure at 0x15cd2390>"
      ]
     },
     "metadata": {},
     "output_type": "display_data"
    }
   ],
   "source": [
    "# Age\n",
    "age_count = titanic_df[\"Age\"].hist(bins=15, color='pink', alpha=0.8)\n",
    "age_count.set(xlabel='Age', ylabel='Count')\n",
    "plt.show()\n",
    "\n",
    "plt.figure(figsize=(20,8))\n",
    "age_survival = titanic_df[[\"Age\", \"Survived\"]].groupby(['Age'],as_index=False).mean()\n",
    "sns.barplot(x='Age', y='Survived', data=age_survival, color='green')"
   ]
  },
  {
   "cell_type": "code",
   "execution_count": 15,
   "metadata": {
    "_cell_guid": "df43e1e0-86c0-43f4-985a-3bdfab98fc44",
    "_uuid": "a454ff67f32d309a89dcde0365b46f51d6e47d44"
   },
   "outputs": [
    {
     "data": {
      "text/plain": [
       "<matplotlib.axes._subplots.AxesSubplot at 0x13efc550>"
      ]
     },
     "execution_count": 15,
     "metadata": {},
     "output_type": "execute_result"
    },
    {
     "data": {
      "image/png": "[encoded data removed]",
      "text/plain": [
       "<matplotlib.figure.Figure at 0x15cf36d8>"
      ]
     },
     "metadata": {},
     "output_type": "display_data"
    },
    {
     "data": {
      "image/png": "[encoded data removed]",
      "text/plain": [
       "<matplotlib.figure.Figure at 0x15cfd5c0>"
      ]
     },
     "metadata": {},
     "output_type": "display_data"
    }
   ],
   "source": [
    "# Embarked\n",
    "sns.factorplot('Embarked','Survived', data=titanic_df,size=4,aspect=3)\n",
    "fig, (axis1,axis2,axis3) = plt.subplots(1,3,figsize=(15,5))\n",
    "\n",
    "sns.countplot(x='Embarked', data=titanic_df, ax=axis1)\n",
    "sns.countplot(x='Survived', hue=\"Embarked\", data=titanic_df, order=[1,0], ax=axis2)\n",
    "\n",
    "embark_perc = titanic_df[[\"Embarked\", \"Survived\"]].groupby(['Embarked'],as_index=False).mean()\n",
    "sns.barplot(x='Embarked', y='Survived', data=embark_perc,order=['S','C','Q'],ax=axis3)\n"
   ]
  },
  {
   "cell_type": "code",
   "execution_count": 16,
   "metadata": {
    "_cell_guid": "07a18445-ad2e-46e2-bcf4-a900f614b47d",
    "_uuid": "4793b4d46cc73ff587db39d4bb91300490084c91"
   },
   "outputs": [
    {
     "data": {
      "text/plain": [
       "[<matplotlib.text.Text at 0x15e4bd30>, <matplotlib.text.Text at 0x15d5d940>]"
      ]
     },
     "execution_count": 16,
     "metadata": {},
     "output_type": "execute_result"
    },
    {
     "data": {
      "image/png": "[encoded data removed]",
      "text/plain": [
       "<matplotlib.figure.Figure at 0x139dbac8>"
      ]
     },
     "metadata": {},
     "output_type": "display_data"
    }
   ],
   "source": [
    "# Alone\n",
    "fig, (axis1,axis2) = plt.subplots(1,2,sharex=True,figsize=(10,5))\n",
    "\n",
    "#######sns.factorplot('Family',data=titanic_df,kind='count',ax=axis1)\n",
    "sns.countplot(x='Alone', data=titanic_df, order=[1,0], ax=axis1)\n",
    "\n",
    "Alone_perc = titanic_df[[\"Alone\", \"Survived\"]].groupby(['Alone'],as_index=False).mean()\n",
    "sns.barplot(x='Alone', y='Survived', data=Alone_perc, order=[1,0], ax=axis2)\n",
    "\n",
    "axis1.set_xticklabels([\"Not Alone\",\"Alone\"], rotation=0)"
   ]
  },
  {
   "cell_type": "code",
   "execution_count": 17,
   "metadata": {
    "_cell_guid": "25f2b81d-b259-4a14-a4ef-e4d8ef0d83ca",
    "_uuid": "0073d69117820b5ce2c096c733c9cee4b5ec6757"
   },
   "outputs": [
    {
     "data": {
      "text/plain": [
       "<seaborn.axisgrid.FacetGrid at 0x13860cc0>"
      ]
     },
     "execution_count": 17,
     "metadata": {},
     "output_type": "execute_result"
    },
    {
     "data": {
      "image/png": "[encoded data removed]",
      "text/plain": [
       "<matplotlib.figure.Figure at 0x139f2e48>"
      ]
     },
     "metadata": {},
     "output_type": "display_data"
    }
   ],
   "source": [
    "# Pclass\n",
    "sns.factorplot('Pclass','Survived',order=[1,2,3], data=titanic_df,size=5)"
   ]
  },
  {
   "cell_type": "code",
   "execution_count": 18,
   "metadata": {
    "_cell_guid": "ae49b009-9ef3-4d35-a0bb-e4cdc13e904a",
    "_uuid": "ff82b1d77cf0a8299f60fdd1ef9f1175ff20cf26"
   },
   "outputs": [
    {
     "data": {
      "text/plain": [
       "<matplotlib.axes._subplots.AxesSubplot at 0x13c14908>"
      ]
     },
     "execution_count": 18,
     "metadata": {},
     "output_type": "execute_result"
    },
    {
     "data": {
      "image/png": "[encoded data removed]",
      "text/plain": [
       "<matplotlib.figure.Figure at 0x16180668>"
      ]
     },
     "metadata": {},
     "output_type": "display_data"
    }
   ],
   "source": [
    "# Sex\n",
    "fig, (axis1,axis2) = plt.subplots(1,2,figsize=(10,5))\n",
    "sns.countplot(x='Sex', data=titanic_df, ax=axis1)\n",
    "\n",
    "sex_perc = titanic_df[[\"Sex\", \"Survived\"]].groupby(['Sex'],as_index=False).mean()\n",
    "sns.barplot(x='Sex', y='Survived', data=sex_perc, ax=axis2, order=['male','female'])"
   ]
  },
  {
   "cell_type": "code",
   "execution_count": 19,
   "metadata": {
    "_cell_guid": "88dc5753-b3a9-4a6f-aa63-8b6c3fdb67fc",
    "_uuid": "e5e9f272c6021286c54837aca5060f2267e0f968",
    "collapsed": true
   },
   "outputs": [],
   "source": [
    "#####################################Predictive Modelling\n",
    "\n",
    "#Create dummy variables for categorical variables\n",
    "\n",
    "### dummies for Pclass\n",
    "pclass_train = pd.get_dummies(titanic_df, columns=[\"Pclass\"])\n",
    "pclass_test = pd.get_dummies(test_df, columns=[\"Pclass\"])\n",
    "\n",
    "### dummies for Embarked\n",
    "embarked_pclass_train = pd.get_dummies(pclass_train, columns=[\"Embarked\"])\n",
    "embarked_pclass_test = pd.get_dummies(pclass_test, columns=[\"Embarked\"])\n",
    "\n",
    "### dummies variable for Sex\n",
    "fin_train=pd.get_dummies(embarked_pclass_train, columns=[\"Sex\"])\n",
    "fin_test=pd.get_dummies(embarked_pclass_test, columns=[\"Sex\"])\n",
    "\n",
    "### drop unnecessary columns\n",
    "fin_train.drop('Sex_female', axis=1, inplace=True)\n",
    "fin_train.drop('PassengerId', axis=1, inplace=True)\n",
    "fin_test.drop('Sex_female', axis=1, inplace=True)\n",
    "\n",
    "fin_train.head()\n",
    "fin_test.head()\n",
    "\n",
    "final_train = fin_train\n",
    "final_test = fin_test"
   ]
  },
  {
   "cell_type": "code",
   "execution_count": 20,
   "metadata": {
    "_cell_guid": "8477dc07-b0d8-4b60-8e12-9dcf0c264922",
    "_uuid": "fd66c1150092efe0e7e7b2957442ec2718257b91",
    "collapsed": true
   },
   "outputs": [],
   "source": [
    "# define training and testing sets\n",
    "final_train.head(20)\n",
    "\n",
    "cols=[\"Age\", \"Fare\", \"Alone\", \"Pclass_1\", \"Pclass_2\",\"Embarked_C\",\"Embarked_S\",\"Sex_male\",\"Minor\"] \n",
    "X_train=final_train[cols]\n",
    "###### or: X_train = final_train.drop(\"Survived\",axis=1)\n",
    "Y_train = final_train['Survived']"
   ]
  },
  {
   "cell_type": "code",
   "execution_count": 21,
   "metadata": {
    "_cell_guid": "85dcc41d-7a07-4fce-925c-165dbaa3f63b",
    "_uuid": "47396bbbdba344816b2533eae3e14a1170d03dbe"
   },
   "outputs": [
    {
     "name": "stderr",
     "output_type": "stream",
     "text": [
      "C:\\Users\\mibiy\\Anaconda2\\lib\\site-packages\\statsmodels\\compat\\pandas.py:56: FutureWarning: The pandas.core.datetools module is deprecated and will be removed in a future version. Please use the pandas.tseries module instead.\n",
      "  from pandas.core import datetools\n"
     ]
    },
    {
     "name": "stdout",
     "output_type": "stream",
     "text": [
      "Optimization terminated successfully.\n",
      "         Current function value: 0.449119\n",
      "         Iterations 6\n",
      "                           Logit Regression Results                           \n",
      "==============================================================================\n",
      "Dep. Variable:               Survived   No. Observations:                  891\n",
      "Model:                          Logit   Df Residuals:                      882\n",
      "Method:                           MLE   Df Model:                            8\n",
      "Date:                Fri, 12 Jan 2018   Pseudo R-squ.:                  0.3256\n",
      "Time:                        17:47:32   Log-Likelihood:                -400.16\n",
      "converged:                       True   LL-Null:                       -593.33\n",
      "                                        LLR p-value:                 1.573e-78\n",
      "==============================================================================\n",
      "                 coef    std err          z      P>|z|      [0.025      0.975]\n",
      "------------------------------------------------------------------------------\n",
      "Age           -0.0178      0.007     -2.436      0.015      -0.032      -0.003\n",
      "Fare           0.0015      0.002      0.661      0.509      -0.003       0.006\n",
      "Alone          0.4313      0.196      2.202      0.028       0.047       0.815\n",
      "Pclass_1       2.2474      0.290      7.747      0.000       1.679       2.816\n",
      "Pclass_2       1.3803      0.233      5.914      0.000       0.923       1.838\n",
      "Embarked_C     0.6585      0.324      2.035      0.042       0.024       1.293\n",
      "Embarked_S     0.1433      0.264      0.542      0.588      -0.375       0.661\n",
      "Sex_male      -2.5567      0.200    -12.779      0.000      -2.949      -2.165\n",
      "Minor          0.8118      0.296      2.743      0.006       0.232       1.392\n",
      "==============================================================================\n"
     ]
    }
   ],
   "source": [
    "# Logistci Regression\n",
    "import statsmodels.api as sm\n",
    "from scipy import stats\n",
    "\n",
    "stats.chisqprob = lambda chisq, df: stats.chi2.sf(chisq, df)\n",
    "log_model=sm.Logit(Y_train,X_train)\n",
    "result=log_model.fit()\n",
    "\n",
    "print(result.summary())"
   ]
  },
  {
   "cell_type": "code",
   "execution_count": 22,
   "metadata": {
    "_cell_guid": "3d34362b-8a7c-45b5-bf8f-fb2905140074",
    "_uuid": "3637b1b76860330bece6d6699aa21120fb2a9e68"
   },
   "outputs": [
    {
     "name": "stdout",
     "output_type": "stream",
     "text": [
      "Optimization terminated successfully.\n",
      "         Current function value: 0.455680\n",
      "         Iterations 6\n",
      "                           Logit Regression Results                           \n",
      "==============================================================================\n",
      "Dep. Variable:               Survived   No. Observations:                  891\n",
      "Model:                          Logit   Df Residuals:                      885\n",
      "Method:                           MLE   Df Model:                            5\n",
      "Date:                Fri, 12 Jan 2018   Pseudo R-squ.:                  0.3157\n",
      "Time:                        17:47:32   Log-Likelihood:                -406.01\n",
      "converged:                       True   LL-Null:                       -593.33\n",
      "                                        LLR p-value:                 8.675e-79\n",
      "==============================================================================\n",
      "                 coef    std err          z      P>|z|      [0.025      0.975]\n",
      "------------------------------------------------------------------------------\n",
      "Age           -0.0213      0.006     -3.420      0.001      -0.033      -0.009\n",
      "Pclass_1       2.1887      0.249      8.806      0.000       1.702       2.676\n",
      "Pclass_2       1.3113      0.228      5.760      0.000       0.865       1.757\n",
      "Embarked_C     1.1314      0.275      4.109      0.000       0.592       1.671\n",
      "Embarked_S     0.6055      0.216      2.802      0.005       0.182       1.029\n",
      "Sex_male      -2.4211      0.188    -12.876      0.000      -2.790      -2.053\n",
      "==============================================================================\n"
     ]
    }
   ],
   "source": [
    "columns_2=[\"Age\", \"Pclass_1\", \"Pclass_2\",\"Embarked_C\",\"Embarked_S\",\"Sex_male\"]  \n",
    "X_train2=final_train[columns_2]\n",
    "\n",
    "log_model2=sm.Logit(Y_train,X_train2)\n",
    "result=log_model2.fit()\n",
    "\n",
    "print(result.summary())"
   ]
  },
  {
   "cell_type": "code",
   "execution_count": 23,
   "metadata": {
    "_cell_guid": "26b3d39b-397b-4c05-8979-45ad9d26a725",
    "_uuid": "8484e5d0914b2a85db25e564aaed1c7affd78a92"
   },
   "outputs": [
    {
     "data": {
      "text/plain": [
       "0.7991021324354658"
      ]
     },
     "execution_count": 23,
     "metadata": {},
     "output_type": "execute_result"
    }
   ],
   "source": [
    "from sklearn.linear_model import LogisticRegression\n",
    "\n",
    "log_model2 = LogisticRegression()\n",
    "log_model2.fit(X_train2, Y_train)\n",
    "\n",
    "log_model2.score(X_train2, Y_train)"
   ]
  },
  {
   "cell_type": "code",
   "execution_count": 24,
   "metadata": {
    "_cell_guid": "9883cfb0-dfe8-4ff7-b549-465b9f23b227",
    "_uuid": "de59454cca78274dd5e7d3919208a4539202a9e9",
    "collapsed": true
   },
   "outputs": [],
   "source": [
    "test_prediction = log_model2.predict(final_test[columns_2])"
   ]
  },
  {
   "cell_type": "code",
   "execution_count": 25,
   "metadata": {
    "_cell_guid": "cdf54418-f863-4377-aa48-a82122b5b84a",
    "_uuid": "d0b7080869864d33f1fd24734da01130e174f521",
    "collapsed": true
   },
   "outputs": [],
   "source": [
    "test_output = final_test['PassengerId']\n",
    "submission = {\n",
    "    'PassengerId': test_output,\n",
    "    'Survived': test_prediction,\n",
    "}\n",
    "submission_df = pd.DataFrame(submission)\n",
    "submission_file = submission_df.to_csv('ZimeiYangTitanicPrediction.csv', index=False)"
   ]
  }
 ],
 "metadata": {
  "kernelspec": {
   "display_name": "Python 3",
   "language": "python",
   "name": "python3"
  },
  "language_info": {
   "codemirror_mode": {
    "name": "ipython",
    "version": 3
   },
   "file_extension": ".py",
   "mimetype": "text/x-python",
   "name": "python",
   "nbconvert_exporter": "python",
   "pygments_lexer": "ipython3",
   "version": "3.6.3"
  }
 },
 "nbformat": 4,
 "nbformat_minor": 1
}
